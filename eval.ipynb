{
 "cells": [
  {
   "cell_type": "code",
   "execution_count": 1,
   "metadata": {},
   "outputs": [
    {
     "name": "stderr",
     "output_type": "stream",
     "text": [
      "c:\\Users\\victo\\Documents\\Linköpings Universitet\\5\\TDDE16\\env\\Lib\\site-packages\\tqdm\\auto.py:21: TqdmWarning: IProgress not found. Please update jupyter and ipywidgets. See https://ipywidgets.readthedocs.io/en/stable/user_install.html\n",
      "  from .autonotebook import tqdm as notebook_tqdm\n"
     ]
    }
   ],
   "source": [
    "import pandas as pd\n",
    "\n",
    "from evaluation import EVALUATION_PATH"
   ]
  },
  {
   "cell_type": "code",
   "execution_count": 20,
   "metadata": {},
   "outputs": [
    {
     "data": {
      "text/html": [
       "<div>\n",
       "<style scoped>\n",
       "    .dataframe tbody tr th:only-of-type {\n",
       "        vertical-align: middle;\n",
       "    }\n",
       "\n",
       "    .dataframe tbody tr th {\n",
       "        vertical-align: top;\n",
       "    }\n",
       "\n",
       "    .dataframe thead th {\n",
       "        text-align: right;\n",
       "    }\n",
       "</style>\n",
       "<table border=\"1\" class=\"dataframe\">\n",
       "  <thead>\n",
       "    <tr style=\"text-align: right;\">\n",
       "      <th></th>\n",
       "      <th>Unnamed: 0</th>\n",
       "      <th>question</th>\n",
       "      <th>human_answer</th>\n",
       "      <th>method</th>\n",
       "      <th>model_answer</th>\n",
       "      <th>context</th>\n",
       "      <th>exec_time</th>\n",
       "      <th>context_relevance</th>\n",
       "      <th>answer_faithfulness</th>\n",
       "      <th>answer_quality</th>\n",
       "    </tr>\n",
       "  </thead>\n",
       "  <tbody>\n",
       "    <tr>\n",
       "      <th>0</th>\n",
       "      <td>0</td>\n",
       "      <td>What course is most similar to text mining (TD...</td>\n",
       "      <td>natural language processing (TDDE09, 729A27)</td>\n",
       "      <td>TFIDF</td>\n",
       "      <td>The course most similar to text mining (TDDE1...</td>\n",
       "      <td>Course: text mining (732a92) (732a92)\\nTeachin...</td>\n",
       "      <td>63210.47</td>\n",
       "      <td>5</td>\n",
       "      <td>5</td>\n",
       "      <td>5</td>\n",
       "    </tr>\n",
       "    <tr>\n",
       "      <th>1</th>\n",
       "      <td>1</td>\n",
       "      <td>What course is most similar to natural languag...</td>\n",
       "      <td>text mining (TDDE16)</td>\n",
       "      <td>TFIDF</td>\n",
       "      <td>The most similar course to Natural Language P...</td>\n",
       "      <td>Course: text mining (tdde16) (tdde16)\\nCourse ...</td>\n",
       "      <td>70113.45</td>\n",
       "      <td>5</td>\n",
       "      <td>3</td>\n",
       "      <td>3</td>\n",
       "    </tr>\n",
       "    <tr>\n",
       "      <th>2</th>\n",
       "      <td>2</td>\n",
       "      <td>What course is most similar to calculus in one...</td>\n",
       "      <td>calculus in one variable 1 (TATA41)</td>\n",
       "      <td>TFIDF</td>\n",
       "      <td>The course most similar to \"Calculus in One V...</td>\n",
       "      <td>Course: theory of calculus, second course (tat...</td>\n",
       "      <td>97922.97</td>\n",
       "      <td>5</td>\n",
       "      <td>5</td>\n",
       "      <td>5</td>\n",
       "    </tr>\n",
       "  </tbody>\n",
       "</table>\n",
       "</div>"
      ],
      "text/plain": [
       "   Unnamed: 0                                           question  \\\n",
       "0           0  What course is most similar to text mining (TD...   \n",
       "1           1  What course is most similar to natural languag...   \n",
       "2           2  What course is most similar to calculus in one...   \n",
       "\n",
       "                                   human_answer method  \\\n",
       "0  natural language processing (TDDE09, 729A27)  TFIDF   \n",
       "1                          text mining (TDDE16)  TFIDF   \n",
       "2           calculus in one variable 1 (TATA41)  TFIDF   \n",
       "\n",
       "                                        model_answer  \\\n",
       "0   The course most similar to text mining (TDDE1...   \n",
       "1   The most similar course to Natural Language P...   \n",
       "2   The course most similar to \"Calculus in One V...   \n",
       "\n",
       "                                             context  exec_time  \\\n",
       "0  Course: text mining (732a92) (732a92)\\nTeachin...   63210.47   \n",
       "1  Course: text mining (tdde16) (tdde16)\\nCourse ...   70113.45   \n",
       "2  Course: theory of calculus, second course (tat...   97922.97   \n",
       "\n",
       "   context_relevance  answer_faithfulness  answer_quality  \n",
       "0                  5                    5               5  \n",
       "1                  5                    3               3  \n",
       "2                  5                    5               5  "
      ]
     },
     "execution_count": 20,
     "metadata": {},
     "output_type": "execute_result"
    }
   ],
   "source": [
    "dataframe = pd.read_csv(EVALUATION_PATH)\n",
    "tfidf_data = dataframe[dataframe[\"method\"] == \"TFIDF\"]\n",
    "rag_data = dataframe[dataframe[\"method\"] == \"RAG\"]\n",
    "dataframe.head(3)"
   ]
  },
  {
   "cell_type": "code",
   "execution_count": 19,
   "metadata": {},
   "outputs": [
    {
     "name": "stdout",
     "output_type": "stream",
     "text": [
      "Average performance for TFIDF\n",
      "Rel: 3.977, Faith: 4.047, Qual: 3.442, Exec: 74.261 s\n",
      "\n",
      "Average performance for RAG\n",
      "Rel: 3.535, Faith: 4.326, Qual: 3.372, Exec: 92.684 s\n"
     ]
    }
   ],
   "source": [
    "avg_rel_tfidf = tfidf_data[\"context_relevance\"].mean()\n",
    "avg_faith_tfidf = tfidf_data[\"answer_faithfulness\"].mean()\n",
    "avg_qual_tfidf = tfidf_data[\"answer_quality\"].mean()\n",
    "avg_exec_tfidf = tfidf_data[\"exec_time\"].mean()\n",
    "print(\"Average performance for TFIDF\")\n",
    "print(\"Rel: {:.3f}, Faith: {:.3f}, Qual: {:.3f}, Exec: {:.3f} s\".format(\n",
    "    avg_rel_tfidf, avg_faith_tfidf, avg_qual_tfidf, avg_exec_tfidf/1000))\n",
    "\n",
    "avg_rel_rag = rag_data[\"context_relevance\"].mean()\n",
    "avg_faith_rag = rag_data[\"answer_faithfulness\"].mean()\n",
    "avg_qual_rag = rag_data[\"answer_quality\"].mean()\n",
    "avg_exec_rag = rag_data[\"exec_time\"].mean()\n",
    "print(\"\\nAverage performance for RAG\")\n",
    "print(\"Rel: {:.3f}, Faith: {:.3f}, Qual: {:.3f}, Exec: {:.3f} s\".format(\n",
    "    avg_rel_rag, avg_faith_rag, avg_qual_rag, avg_exec_rag/1000))"
   ]
  }
 ],
 "metadata": {
  "kernelspec": {
   "display_name": "env",
   "language": "python",
   "name": "python3"
  },
  "language_info": {
   "codemirror_mode": {
    "name": "ipython",
    "version": 3
   },
   "file_extension": ".py",
   "mimetype": "text/x-python",
   "name": "python",
   "nbconvert_exporter": "python",
   "pygments_lexer": "ipython3",
   "version": "3.11.6"
  }
 },
 "nbformat": 4,
 "nbformat_minor": 2
}
