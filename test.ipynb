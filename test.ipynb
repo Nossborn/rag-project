{
 "cells": [
  {
   "cell_type": "code",
   "execution_count": null,
   "metadata": {},
   "outputs": [],
   "source": [
    "import dataset\n",
    "import retrivers\n",
    "import answer_model"
   ]
  },
  {
   "cell_type": "markdown",
   "metadata": {},
   "source": [
    "## Retriever"
   ]
  },
  {
   "cell_type": "code",
   "execution_count": null,
   "metadata": {},
   "outputs": [],
   "source": [
    "import importlib\n",
    "_ = importlib.reload(dataset)\n",
    "_ = importlib.reload(retrivers)\n",
    "_ = importlib.reload(answer_model)\n",
    "\n",
    "from dataset import StudieinfoDataset\n",
    "from retrivers import TFIDF, RAG\n",
    "from answer_model import AnswerModel"
   ]
  },
  {
   "cell_type": "markdown",
   "metadata": {},
   "source": [
    "### Dataset"
   ]
  },
  {
   "cell_type": "code",
   "execution_count": null,
   "metadata": {},
   "outputs": [],
   "source": [
    "docs = StudieinfoDataset(path=\"./dataset/courses\")\n",
    "print(str(docs[0])[:140] + '...')"
   ]
  },
  {
   "cell_type": "code",
   "execution_count": null,
   "metadata": {},
   "outputs": [],
   "source": [
    "# retriver = TFIDF(docs, k=3)\n",
    "retriver = RAG(docs, k=3)\n",
    "\n",
    "ans_model = AnswerModel(retriever=retriver)"
   ]
  },
  {
   "cell_type": "code",
   "execution_count": null,
   "metadata": {},
   "outputs": [],
   "source": [
    "question = \"What course is most similar to text mining (TDDE16)?\"\n",
    "in_prompt, output = ans_model.run(question)\n",
    "\n",
    "print(in_prompt, output, sep=\"\\n\")"
   ]
  }
 ],
 "metadata": {
  "kernelspec": {
   "display_name": "env",
   "language": "python",
   "name": "python3"
  },
  "language_info": {
   "codemirror_mode": {
    "name": "ipython",
    "version": 3
   },
   "file_extension": ".py",
   "mimetype": "text/x-python",
   "name": "python",
   "nbconvert_exporter": "python",
   "pygments_lexer": "ipython3",
   "version": "3.11.6"
  }
 },
 "nbformat": 4,
 "nbformat_minor": 2
}
