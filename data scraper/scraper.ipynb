{
 "cells": [
  {
   "cell_type": "markdown",
   "metadata": {},
   "source": [
    "# LiU Studieinfo scraper"
   ]
  },
  {
   "cell_type": "markdown",
   "metadata": {},
   "source": [
    "## Imports"
   ]
  },
  {
   "cell_type": "code",
   "execution_count": null,
   "metadata": {},
   "outputs": [],
   "source": [
    "import scraper"
   ]
  },
  {
   "cell_type": "markdown",
   "metadata": {},
   "source": [
    "Reload imports"
   ]
  },
  {
   "cell_type": "code",
   "execution_count": null,
   "metadata": {},
   "outputs": [],
   "source": [
    "import importlib\n",
    "_ = importlib.reload(scraper)\n",
    "\n",
    "from scraper import get_programs, get_courses_from_program, get_course_info, save_course, get_courses"
   ]
  },
  {
   "cell_type": "markdown",
   "metadata": {},
   "source": [
    "## Programs at LiU"
   ]
  },
  {
   "cell_type": "code",
   "execution_count": null,
   "metadata": {},
   "outputs": [],
   "source": [
    "programs = get_programs()"
   ]
  },
  {
   "cell_type": "markdown",
   "metadata": {},
   "source": [
    "Print list of programs at LiU "
   ]
  },
  {
   "cell_type": "code",
   "execution_count": null,
   "metadata": {},
   "outputs": [],
   "source": [
    "print(f\"Number of programs: {len(programs)}\")\n",
    "print(\"\\n\".join([f\"{code} | {program.get('link')} | {program.get('name')}\" for code, program in programs.items()]))"
   ]
  },
  {
   "cell_type": "markdown",
   "metadata": {},
   "source": [
    "## Courses at LiU program"
   ]
  },
  {
   "cell_type": "code",
   "execution_count": null,
   "metadata": {},
   "outputs": [],
   "source": [
    "program_code = \"6cyyy\"\n",
    "courses = get_courses_from_program(programs[program_code][\"link\"], program_code)"
   ]
  },
  {
   "cell_type": "markdown",
   "metadata": {},
   "source": [
    "Print list of courses for a specific programme"
   ]
  },
  {
   "cell_type": "code",
   "execution_count": null,
   "metadata": {},
   "outputs": [],
   "source": [
    "print(f\"Number of courses: {len(courses)}\")\n",
    "print(\"\\n\".join([f\"{code} | {course.get('link')} | {course.get('name')}\" for code, course in courses.items()]))"
   ]
  },
  {
   "cell_type": "markdown",
   "metadata": {},
   "source": [
    "## Scrape a single course page"
   ]
  },
  {
   "cell_type": "code",
   "execution_count": null,
   "metadata": {},
   "outputs": [],
   "source": [
    "course_code = \"tsrt14\"\n",
    "course_info = get_course_info(courses[course_code][\"link\"], course_code, courses[course_code][\"name\"])"
   ]
  },
  {
   "cell_type": "code",
   "execution_count": null,
   "metadata": {},
   "outputs": [],
   "source": [
    "print(f\"Number of lines: {len(course_info)}\")\n",
    "print(\"\\n\".join(course_info))"
   ]
  },
  {
   "cell_type": "markdown",
   "metadata": {},
   "source": [
    "## Download all courses for one program"
   ]
  },
  {
   "cell_type": "code",
   "execution_count": null,
   "metadata": {},
   "outputs": [],
   "source": [
    "p_code = \"6cyyy\"\n",
    "courses = get_courses_from_program(programs[p_code][\"link\"], p_code)\n",
    "\n",
    "for code, course in courses.items():\n",
    "    link, name = course[\"link\"], course[\"name\"]\n",
    "    try:\n",
    "        course_info = get_course_info(link, code, name)\n",
    "        save_course(course_info, code)\n",
    "    except Exception as e:\n",
    "        print(f\"Failed for course {code}\", e)"
   ]
  },
  {
   "cell_type": "markdown",
   "metadata": {},
   "source": [
    "## Download all courses for all programs"
   ]
  },
  {
   "cell_type": "code",
   "execution_count": null,
   "metadata": {},
   "outputs": [],
   "source": [
    "for p_code, program in programs.items():\n",
    "    courses = get_courses_from_program(program[\"link\"], p_code)\n",
    "    for code, course in courses.items():\n",
    "        link, name = course[\"link\"], course[\"name\"]\n",
    "        try:\n",
    "            course_info = get_course_info(link, code, name)\n",
    "            save_course(course_info, code)\n",
    "        except Exception as e:\n",
    "            print(f\"Failed for course {code}\", e)"
   ]
  },
  {
   "cell_type": "markdown",
   "metadata": {},
   "source": [
    "## Download all courses from the search page"
   ]
  },
  {
   "cell_type": "code",
   "execution_count": null,
   "metadata": {},
   "outputs": [],
   "source": [
    "for code, course in get_courses().items():\n",
    "    link, name = course[\"link\"], course[\"name\"]\n",
    "    try:\n",
    "        course_info = get_course_info(link, code, name)\n",
    "        save_course(course_info, code)\n",
    "    except Exception as e:\n",
    "        print(f\"Failed for course {code}\", e)"
   ]
  }
 ],
 "metadata": {
  "kernelspec": {
   "display_name": "env",
   "language": "python",
   "name": "python3"
  },
  "language_info": {
   "codemirror_mode": {
    "name": "ipython",
    "version": 3
   },
   "file_extension": ".py",
   "mimetype": "text/x-python",
   "name": "python",
   "nbconvert_exporter": "python",
   "pygments_lexer": "ipython3",
   "version": "3.11.6"
  }
 },
 "nbformat": 4,
 "nbformat_minor": 2
}
